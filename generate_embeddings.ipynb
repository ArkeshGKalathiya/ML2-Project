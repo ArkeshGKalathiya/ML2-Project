{
 "cells": [
  {
   "cell_type": "code",
   "execution_count": 2,
   "metadata": {},
   "outputs": [
    {
     "name": "stderr",
     "output_type": "stream",
     "text": [
      "[nltk_data] Downloading package stopwords to\n",
      "[nltk_data]     /Users/arkeshkalathiya/nltk_data...\n",
      "[nltk_data]   Package stopwords is already up-to-date!\n",
      "[nltk_data] Downloading package wordnet to\n",
      "[nltk_data]     /Users/arkeshkalathiya/nltk_data...\n",
      "[nltk_data]   Package wordnet is already up-to-date!\n",
      "[nltk_data] Downloading package omw-1.4 to\n",
      "[nltk_data]     /Users/arkeshkalathiya/nltk_data...\n",
      "[nltk_data]   Package omw-1.4 is already up-to-date!\n"
     ]
    }
   ],
   "source": [
    "### download necessary data\n",
    "import nltk\n",
    "from nltk.corpus import words\n",
    "from nltk.corpus import stopwords\n",
    "from nltk.stem import WordNetLemmatizer\n",
    "from gensim.models import Word2Vec\n",
    "\n",
    "\n",
    "nltk.download('stopwords')\n",
    "nltk.download('wordnet')\n",
    "nltk.download('omw-1.4')\n",
    "nltkStopWords = set(stopwords.words('english'))"
   ]
  },
  {
   "cell_type": "code",
   "execution_count": 3,
   "metadata": {},
   "outputs": [],
   "source": [
    "import pandas as pd\n",
    "import requests\n",
    "import re\n"
   ]
  },
  {
   "cell_type": "code",
   "execution_count": 5,
   "metadata": {},
   "outputs": [],
   "source": [
    "## load data\n",
    "\n",
    "\n",
    "def removeNumber(comment):\n",
    "    return re.sub(r'\\d+',\"\",comment)\n",
    "\n",
    "def removeDoubleDots(comment):\n",
    "    return re.sub(r'\\.{2,}',\"\",comment)\n",
    "\n",
    "def removeDoubleSpace(comment):\n",
    "    return re.sub(r'[ ]{2,}',\" \",comment)\n",
    "\n",
    "def removeTalk(comment):\n",
    "    return re.sub(r'\\(talk\\)',\"\",comment)\n",
    "\n",
    "def removePunctuations(comment):\n",
    "    return re.sub(r'[^\\w\\s]','',comment)\n",
    "\n",
    "def removeNewLine(comment):\n",
    "    return re.sub(r'\\n',\" \",comment)\n",
    "\n",
    "def removeURLs(comment):\n",
    "    return re.sub(r'^https?:\\/\\/.*[\\r\\n]*', '', comment, flags=re.MULTILINE)\n",
    "\n",
    "\n",
    "def lemmatize(comment):\n",
    "    wnl = WordNetLemmatizer()\n",
    "    tokens = [wnl.lemmatize(word) for word in nltk.word_tokenize(comment)]\n",
    "    return \" \".join(tokens)\n",
    "\n",
    "\n",
    "def processComment(comment):\n",
    "    comment = removeNumber(comment)\n",
    "    comment = removeNewLine(comment)\n",
    "    comment = removeTalk(comment)\n",
    "    comment = removeDoubleSpace(comment)\n",
    "    comment = removeDoubleDots(comment)\n",
    "    comment = removePunctuations(comment)\n",
    "    comment = lemmatize(comment)\n",
    "    comment = removeURLs(comment)\n",
    "    return comment.lower()    \n",
    "\n",
    "\n",
    "data = pd.read_csv('./data/train.csv')\n",
    "data['comment_text'] = data['comment_text'].apply(processComment)\n",
    "\n",
    "\n",
    "\n"
   ]
  },
  {
   "cell_type": "code",
   "execution_count": 6,
   "metadata": {},
   "outputs": [],
   "source": [
    "model = Word2Vec(sentences=data.comment_text.apply(lambda x : nltk.word_tokenize(x)), vector_size=100, window=5, min_count=1, workers=10)\n"
   ]
  },
  {
   "cell_type": "code",
   "execution_count": 8,
   "metadata": {},
   "outputs": [],
   "source": [
    "model.wv.save('./custom_embeddings.model')"
   ]
  },
  {
   "cell_type": "code",
   "execution_count": null,
   "metadata": {},
   "outputs": [],
   "source": []
  }
 ],
 "metadata": {
  "kernelspec": {
   "display_name": "Python 3.9.6 64-bit",
   "language": "python",
   "name": "python3"
  },
  "language_info": {
   "codemirror_mode": {
    "name": "ipython",
    "version": 3
   },
   "file_extension": ".py",
   "mimetype": "text/x-python",
   "name": "python",
   "nbconvert_exporter": "python",
   "pygments_lexer": "ipython3",
   "version": "3.9.6"
  },
  "orig_nbformat": 4,
  "vscode": {
   "interpreter": {
    "hash": "31f2aee4e71d21fbe5cf8b01ff0e069b9275f58929596ceb00d14d90e3e16cd6"
   }
  }
 },
 "nbformat": 4,
 "nbformat_minor": 2
}
